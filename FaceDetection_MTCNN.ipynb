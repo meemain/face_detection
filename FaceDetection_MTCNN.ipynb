{
  "nbformat": 4,
  "nbformat_minor": 0,
  "metadata": {
    "colab": {
      "name": "FaceDetection_MTCNN.ipynb",
      "provenance": [],
      "collapsed_sections": [],
      "toc_visible": true
    },
    "kernelspec": {
      "name": "python3",
      "display_name": "Python 3"
    },
    "accelerator": "GPU"
  },
  "cells": [
    {
      "cell_type": "markdown",
      "metadata": {
        "id": "Q0K5Ht4AntLm",
        "colab_type": "text"
      },
      "source": [
        "# **Detect face(s) of people in images and then Extract and Save just faces as image using MTCNN (Multi-task Cascaded Convolutional Neural Networks) and OpenCV**\n",
        "Extracting just the faces can be helpful when you are creating a dataset of faces from many images to pass as input to ML pipeline.\n",
        "\n"
      ]
    },
    {
      "cell_type": "markdown",
      "metadata": {
        "id": "spguGBBEpmqt",
        "colab_type": "text"
      },
      "source": [
        "## Step 1: Mount your Google Drive\n",
        "- Execute the below cell and when prompted click at the URL and login to your Google account that is linked to your drive. When prompted Select 'Allow' and then copy authorization code.\n",
        "- Paste the authoriation code in the box.\n",
        "- Create a folder to keep source and target files and set that as the BASE_PATH"
      ]
    },
    {
      "cell_type": "code",
      "metadata": {
        "id": "H8RoxgNfPjqc",
        "colab_type": "code",
        "colab": {
          "base_uri": "https://localhost:8080/",
          "height": 34
        },
        "outputId": "f22d619e-d473-4e76-ad6e-2417b3b2842b"
      },
      "source": [
        "from google.colab import drive\n",
        "drive.mount('/content/drive/')"
      ],
      "execution_count": 2,
      "outputs": [
        {
          "output_type": "stream",
          "text": [
            "Drive already mounted at /content/drive/; to attempt to forcibly remount, call drive.mount(\"/content/drive/\", force_remount=True).\n"
          ],
          "name": "stdout"
        }
      ]
    },
    {
      "cell_type": "code",
      "metadata": {
        "id": "AcEbyP2QQ4hm",
        "colab_type": "code",
        "colab": {}
      },
      "source": [
        "import os\n",
        "\n",
        "BASE_PATH = '/content/drive/My Drive/01_Aqila/' #this is my path, change path according to your \n",
        "SRC_PHOTOS_PATH = BASE_PATH + 'source_images/'\n",
        "TRG_FACES_PATH = BASE_PATH + 'target_faces/'\n",
        "\n",
        "if not os.path.exists(SRC_PHOTOS_PATH): os.mkdir(SRC_PHOTOS_PATH)\n",
        "if not os.path.exists(TRG_FACES_PATH): os.mkdir(TRG_FACES_PATH)\n",
        "      \n"
      ],
      "execution_count": 4,
      "outputs": []
    },
    {
      "cell_type": "markdown",
      "metadata": {
        "id": "n77ykwd-rXLh",
        "colab_type": "text"
      },
      "source": [
        "## Step 2: Install MTCNN and other dependencies"
      ]
    },
    {
      "cell_type": "code",
      "metadata": {
        "id": "V5bSdGHr1nUJ",
        "colab_type": "code",
        "colab": {
          "base_uri": "https://localhost:8080/",
          "height": 230
        },
        "outputId": "68434ac8-747a-4c39-a7a1-145098a0e33e"
      },
      "source": [
        "!pip install mtcnn"
      ],
      "execution_count": 5,
      "outputs": [
        {
          "output_type": "stream",
          "text": [
            "Collecting mtcnn\n",
            "\u001b[?25l  Downloading https://files.pythonhosted.org/packages/67/43/abee91792797c609c1bf30f1112117f7a87a713ebaa6ec5201d5555a73ef/mtcnn-0.1.0-py3-none-any.whl (2.3MB)\n",
            "\u001b[K     |████████████████████████████████| 2.3MB 3.4MB/s \n",
            "\u001b[?25hRequirement already satisfied: opencv-python>=4.1.0 in /usr/local/lib/python3.6/dist-packages (from mtcnn) (4.1.2.30)\n",
            "Requirement already satisfied: keras>=2.0.0 in /usr/local/lib/python3.6/dist-packages (from mtcnn) (2.4.3)\n",
            "Requirement already satisfied: numpy>=1.11.3 in /usr/local/lib/python3.6/dist-packages (from opencv-python>=4.1.0->mtcnn) (1.18.5)\n",
            "Requirement already satisfied: pyyaml in /usr/local/lib/python3.6/dist-packages (from keras>=2.0.0->mtcnn) (3.13)\n",
            "Requirement already satisfied: scipy>=0.14 in /usr/local/lib/python3.6/dist-packages (from keras>=2.0.0->mtcnn) (1.4.1)\n",
            "Requirement already satisfied: h5py in /usr/local/lib/python3.6/dist-packages (from keras>=2.0.0->mtcnn) (2.10.0)\n",
            "Requirement already satisfied: six in /usr/local/lib/python3.6/dist-packages (from h5py->keras>=2.0.0->mtcnn) (1.15.0)\n",
            "Installing collected packages: mtcnn\n",
            "Successfully installed mtcnn-0.1.0\n"
          ],
          "name": "stdout"
        }
      ]
    },
    {
      "cell_type": "code",
      "metadata": {
        "id": "ryi2Tr8V1uxl",
        "colab_type": "code",
        "colab": {}
      },
      "source": [
        "from mtcnn.mtcnn import MTCNN\n",
        "import cv2\n",
        "from google.colab.patches import cv2_imshow"
      ],
      "execution_count": 6,
      "outputs": []
    },
    {
      "cell_type": "markdown",
      "metadata": {
        "id": "VQR7MNgdr7Ql",
        "colab_type": "text"
      },
      "source": [
        "## Step 3: Function that will detect, extract and save faces as individual image files"
      ]
    },
    {
      "cell_type": "code",
      "metadata": {
        "id": "njQriLRenUv8",
        "colab_type": "code",
        "colab": {}
      },
      "source": [
        "def detect_extract_save_faces(files, resize=False, extract=True, mark_faces=False):\n",
        "  for filename in files:\n",
        "    img = cv2.imread(filename)\n",
        "\n",
        "    if resize==True: #if source images are too big in size resize them in half (large images take longer to process)\n",
        "      # Resize the image by half\n",
        "      width = int(img.shape[1]/2)\n",
        "      height = int(img.shape[0]/2)\n",
        "      img = cv2.resize(img, (width, height), interpolation = cv2.INTER_AREA)\n",
        "\n",
        "    # Convert the image to RGB from BGR format which Open CV uses as default\n",
        "    rgb_image = cv2.cvtColor(img, cv2.COLOR_BGR2RGB)\n",
        "\n",
        "    face_locations = []\n",
        "\n",
        "    face_detector = MTCNN()\n",
        "    face_locations = face_detector.detect_faces(rgb_image)\n",
        "    print('# file name:', filename, '# of faces detected:', len(face_locations))\n",
        "    print(face_locations)\n",
        "\n",
        "    for index, face_location in enumerate(face_locations):      \n",
        "      if face_location['confidence'] > 0.94: #only trust if the confidence level is over 94%\n",
        "        x1, y1, width, height = face_location['box']\n",
        "        x1, y1 = abs(x1), abs(y1)\n",
        "        x2, y2 = x1 + width, y1 + height\n",
        "\n",
        "        face = img[y1:y2, x1:x2]\n",
        "        face = cv2.resize(face, (80, 80), interpolation = cv2.INTER_AREA)\n",
        "\n",
        "        #build target path keeping actual source file name with index of the face image\n",
        "        face_file_path = os.path.splitext(filename.replace(SRC_PHOTOS_PATH, TRG_FACES_PATH))[0] + '_' + str(index) + '.jpg'\n",
        "        face_base_path = os.path.dirname(face_file_path)\n",
        "        print('face_path:',face_file_path)\n",
        "\n",
        "        #cv2.imwrite will not create target directory - to keep the target files in the same folder tree we need to create the directory first\n",
        "        if not os.path.exists(face_base_path): os.mkdir(face_base_path)\n",
        "\n",
        "        cv2.imwrite(face_file_path, face)\n",
        "\n",
        "    if mark_faces == True: #if just boxes around detected image is required  \n",
        "      for face_location in face_locations:\n",
        "        x1, y1, width, height = face_location['box']\n",
        "        x2, y2 = x1 + width, y1 + height\n",
        "        cv2.rectangle(img, (x1, y1), (x2, y2), (0, 0, 255), 2)\n",
        "\n",
        "      detect_file_path = os.path.splitext(filename.replace(SRC_PHOTOS_PATH, TRG_FACES_PATH))[0] + '_face_detected.jpg'\n",
        "      detect_base_path = os.path.dirname(detect_file_path)      \n",
        "\n",
        "      #cv2.imwrite will not create target directory - to keep the target files in the same folder tree we need to create the directory first\n",
        "      if not os.path.exists(detect_base_path): os.mkdir(detect_base_path)\n",
        "      print('detect_path:', detect_file_path)\n",
        "      cv2.imwrite(detect_file_path, img)\n",
        "\n",
        "      \n",
        "\n"
      ],
      "execution_count": 10,
      "outputs": []
    },
    {
      "cell_type": "markdown",
      "metadata": {
        "id": "H0wPtUexxS84",
        "colab_type": "text"
      },
      "source": [
        "Function to get the list of all source files - root and files in sub-folders "
      ]
    },
    {
      "cell_type": "code",
      "metadata": {
        "id": "37I9RjLjNcAS",
        "colab_type": "code",
        "colab": {}
      },
      "source": [
        "'''\n",
        "    For the list of files in source directory and all sub-foders in it \n",
        "'''\n",
        "def getListOfFiles(dirName):\n",
        "    # create a list of file and sub folders \n",
        "    # names in the given folder \n",
        "    listOfFile = os.listdir(dirName)\n",
        "    allFiles = list()\n",
        "    # Iterate over all the entries\n",
        "    for entry in listOfFile:\n",
        "        # Create full path\n",
        "        fullPath = os.path.join(dirName, entry)\n",
        "        if os.path.getsize(fullPath) >0 and not entry.startswith('.') :                        \n",
        "          # If entry is a directory then get the list of files in this directory \n",
        "          if os.path.isdir(fullPath):\n",
        "              allFiles = allFiles + getListOfFiles(fullPath)\n",
        "          else:\n",
        "              allFiles.append(fullPath)\n",
        "        else:\n",
        "          print(fullPath, ': Zero byte file - ignored!')\n",
        "\n",
        "    return allFiles\n",
        "\n"
      ],
      "execution_count": 11,
      "outputs": []
    },
    {
      "cell_type": "markdown",
      "metadata": {
        "id": "kAqZQG0oxrRB",
        "colab_type": "text"
      },
      "source": [
        "## Get list of files from source image folder and extract faces."
      ]
    },
    {
      "cell_type": "code",
      "metadata": {
        "id": "6I0OUX_32Cpl",
        "colab_type": "code",
        "colab": {
          "base_uri": "https://localhost:8080/",
          "height": 1000
        },
        "outputId": "ec82eef6-7ec7-4947-be1d-d193b2afd0f3"
      },
      "source": [
        "# Get the list of all files in source and sub-directories\n",
        "listOfFiles = getListOfFiles(SRC_PHOTOS_PATH)\n",
        "#print(listOfFiles)\n",
        "detect_extract_save_faces(listOfFiles, False, True, True)"
      ],
      "execution_count": 12,
      "outputs": [
        {
          "output_type": "stream",
          "text": [
            "/content/drive/My Drive/01_Aqila/source_images/.ipynb_checkpoints : Zero byte file - ignored!\n",
            "/content/drive/My Drive/01_Aqila/source_images/Amir/.DS_Store : Zero byte file - ignored!\n",
            "# file name: /content/drive/My Drive/01_Aqila/source_images/IMG_3156.jpeg # of faces detected: 6\n",
            "[{'box': [685, 773, 72, 109], 'confidence': 0.8601534962654114, 'keypoints': {'left_eye': (726, 811), 'right_eye': (752, 810), 'nose': (749, 834), 'mouth_left': (725, 855), 'mouth_right': (744, 857)}}, {'box': [243, 1211, 43, 56], 'confidence': 0.846126139163971, 'keypoints': {'left_eye': (256, 1232), 'right_eye': (272, 1227), 'nose': (266, 1241), 'mouth_left': (262, 1255), 'mouth_right': (274, 1252)}}, {'box': [1975, 1621, 110, 129], 'confidence': 0.8216217160224915, 'keypoints': {'left_eye': (2012, 1690), 'right_eye': (2043, 1661), 'nose': (2037, 1697), 'mouth_left': (2041, 1730), 'mouth_right': (2067, 1706)}}, {'box': [761, 1268, 47, 55], 'confidence': 0.7677661776542664, 'keypoints': {'left_eye': (772, 1294), 'right_eye': (788, 1286), 'nose': (781, 1301), 'mouth_left': (781, 1314), 'mouth_right': (794, 1307)}}, {'box': [576, 744, 34, 50], 'confidence': 0.7278650403022766, 'keypoints': {'left_eye': (580, 758), 'right_eye': (594, 756), 'nose': (581, 770), 'mouth_left': (583, 781), 'mouth_right': (595, 780)}}, {'box': [2676, 1491, 249, 362], 'confidence': 0.7045222520828247, 'keypoints': {'left_eye': (2850, 1619), 'right_eye': (2923, 1632), 'nose': (2930, 1696), 'mouth_left': (2819, 1752), 'mouth_right': (2885, 1761)}}]\n",
            "detect_path: /content/drive/My Drive/01_Aqila/target_faces/IMG_3156_face_detected.jpg\n",
            "WARNING:tensorflow:5 out of the last 103 calls to <function Model.make_predict_function.<locals>.predict_function at 0x7fbbf0062378> triggered tf.function retracing. Tracing is expensive and the excessive number of tracings could be due to (1) creating @tf.function repeatedly in a loop, (2) passing tensors with different shapes, (3) passing Python objects instead of tensors. For (1), please define your @tf.function outside of the loop. For (2), @tf.function has experimental_relax_shapes=True option that relaxes argument shapes that can avoid unnecessary retracing. For (3), please refer to https://www.tensorflow.org/tutorials/customization/performance#python_or_tensor_args and https://www.tensorflow.org/api_docs/python/tf/function for  more details.\n",
            "# file name: /content/drive/My Drive/01_Aqila/source_images/Screen Shot 2020-07-28 at 11.51.43 PM.png # of faces detected: 1\n",
            "[{'box': [1104, 235, 243, 306], 'confidence': 0.9999961853027344, 'keypoints': {'left_eye': (1169, 362), 'right_eye': (1280, 355), 'nose': (1223, 408), 'mouth_left': (1178, 467), 'mouth_right': (1281, 462)}}]\n",
            "face_path: /content/drive/My Drive/01_Aqila/target_faces/Screen Shot 2020-07-28 at 11.51.43 PM_0.jpg\n",
            "detect_path: /content/drive/My Drive/01_Aqila/target_faces/Screen Shot 2020-07-28 at 11.51.43 PM_face_detected.jpg\n",
            "WARNING:tensorflow:5 out of the last 15 calls to <function Model.make_predict_function.<locals>.predict_function at 0x7fbba0282510> triggered tf.function retracing. Tracing is expensive and the excessive number of tracings could be due to (1) creating @tf.function repeatedly in a loop, (2) passing tensors with different shapes, (3) passing Python objects instead of tensors. For (1), please define your @tf.function outside of the loop. For (2), @tf.function has experimental_relax_shapes=True option that relaxes argument shapes that can avoid unnecessary retracing. For (3), please refer to https://www.tensorflow.org/tutorials/customization/performance#python_or_tensor_args and https://www.tensorflow.org/api_docs/python/tf/function for  more details.\n",
            "# file name: /content/drive/My Drive/01_Aqila/source_images/IMG_9461.jpg # of faces detected: 3\n",
            "[{'box': [946, 503, 883, 1251], 'confidence': 0.9999988079071045, 'keypoints': {'left_eye': (1216, 1030), 'right_eye': (1633, 1027), 'nose': (1464, 1313), 'mouth_left': (1203, 1393), 'mouth_right': (1630, 1393)}}, {'box': [1852, 2235, 25, 29], 'confidence': 0.8606546521186829, 'keypoints': {'left_eye': (1861, 2243), 'right_eye': (1872, 2245), 'nose': (1866, 2250), 'mouth_left': (1860, 2258), 'mouth_right': (1868, 2259)}}, {'box': [609, 484, 255, 312], 'confidence': 0.7319865226745605, 'keypoints': {'left_eye': (673, 593), 'right_eye': (772, 618), 'nose': (696, 654), 'mouth_left': (645, 709), 'mouth_right': (734, 727)}}]\n",
            "face_path: /content/drive/My Drive/01_Aqila/target_faces/IMG_9461_0.jpg\n",
            "detect_path: /content/drive/My Drive/01_Aqila/target_faces/IMG_9461_face_detected.jpg\n",
            "WARNING:tensorflow:5 out of the last 37 calls to <function Model.make_predict_function.<locals>.predict_function at 0x7fbba001b598> triggered tf.function retracing. Tracing is expensive and the excessive number of tracings could be due to (1) creating @tf.function repeatedly in a loop, (2) passing tensors with different shapes, (3) passing Python objects instead of tensors. For (1), please define your @tf.function outside of the loop. For (2), @tf.function has experimental_relax_shapes=True option that relaxes argument shapes that can avoid unnecessary retracing. For (3), please refer to https://www.tensorflow.org/tutorials/customization/performance#python_or_tensor_args and https://www.tensorflow.org/api_docs/python/tf/function for  more details.\n",
            "# file name: /content/drive/My Drive/01_Aqila/source_images/Screen Shot 2020-09-04 at 12.16.18 AM.png # of faces detected: 1\n",
            "[{'box': [833, 103, 573, 721], 'confidence': 0.9999953508377075, 'keypoints': {'left_eye': (982, 424), 'right_eye': (1233, 369), 'nose': (1125, 496), 'mouth_left': (1053, 669), 'mouth_right': (1269, 630)}}]\n",
            "face_path: /content/drive/My Drive/01_Aqila/target_faces/Screen Shot 2020-09-04 at 12.16.18 AM_0.jpg\n",
            "detect_path: /content/drive/My Drive/01_Aqila/target_faces/Screen Shot 2020-09-04 at 12.16.18 AM_face_detected.jpg\n",
            "WARNING:tensorflow:5 out of the last 18 calls to <function Model.make_predict_function.<locals>.predict_function at 0x7fbb924d5730> triggered tf.function retracing. Tracing is expensive and the excessive number of tracings could be due to (1) creating @tf.function repeatedly in a loop, (2) passing tensors with different shapes, (3) passing Python objects instead of tensors. For (1), please define your @tf.function outside of the loop. For (2), @tf.function has experimental_relax_shapes=True option that relaxes argument shapes that can avoid unnecessary retracing. For (3), please refer to https://www.tensorflow.org/tutorials/customization/performance#python_or_tensor_args and https://www.tensorflow.org/api_docs/python/tf/function for  more details.\n",
            "WARNING:tensorflow:6 out of the last 19 calls to <function Model.make_predict_function.<locals>.predict_function at 0x7fbb924d5730> triggered tf.function retracing. Tracing is expensive and the excessive number of tracings could be due to (1) creating @tf.function repeatedly in a loop, (2) passing tensors with different shapes, (3) passing Python objects instead of tensors. For (1), please define your @tf.function outside of the loop. For (2), @tf.function has experimental_relax_shapes=True option that relaxes argument shapes that can avoid unnecessary retracing. For (3), please refer to https://www.tensorflow.org/tutorials/customization/performance#python_or_tensor_args and https://www.tensorflow.org/api_docs/python/tf/function for  more details.\n",
            "# file name: /content/drive/My Drive/01_Aqila/source_images/test_image.jpg # of faces detected: 6\n",
            "[{'box': [211, 46, 41, 57], 'confidence': 0.9999994039535522, 'keypoints': {'left_eye': (226, 68), 'right_eye': (245, 70), 'nose': (238, 79), 'mouth_left': (224, 86), 'mouth_right': (244, 88)}}, {'box': [508, 64, 34, 49], 'confidence': 0.9999960660934448, 'keypoints': {'left_eye': (518, 81), 'right_eye': (535, 83), 'nose': (526, 91), 'mouth_left': (517, 99), 'mouth_right': (532, 100)}}, {'box': [376, 59, 39, 52], 'confidence': 0.9999960660934448, 'keypoints': {'left_eye': (389, 79), 'right_eye': (407, 83), 'nose': (397, 90), 'mouth_left': (386, 97), 'mouth_right': (403, 100)}}, {'box': [763, 55, 36, 48], 'confidence': 0.9999953508377075, 'keypoints': {'left_eye': (774, 74), 'right_eye': (790, 75), 'nose': (782, 85), 'mouth_left': (772, 90), 'mouth_right': (790, 91)}}, {'box': [636, 60, 35, 46], 'confidence': 0.9999300241470337, 'keypoints': {'left_eye': (643, 79), 'right_eye': (659, 77), 'nose': (650, 86), 'mouth_left': (646, 95), 'mouth_right': (662, 93)}}, {'box': [890, 40, 39, 53], 'confidence': 0.9999183416366577, 'keypoints': {'left_eye': (899, 62), 'right_eye': (916, 59), 'nose': (906, 72), 'mouth_left': (902, 81), 'mouth_right': (919, 78)}}]\n",
            "face_path: /content/drive/My Drive/01_Aqila/target_faces/test_image_0.jpg\n",
            "face_path: /content/drive/My Drive/01_Aqila/target_faces/test_image_1.jpg\n",
            "face_path: /content/drive/My Drive/01_Aqila/target_faces/test_image_2.jpg\n",
            "face_path: /content/drive/My Drive/01_Aqila/target_faces/test_image_3.jpg\n",
            "face_path: /content/drive/My Drive/01_Aqila/target_faces/test_image_4.jpg\n",
            "face_path: /content/drive/My Drive/01_Aqila/target_faces/test_image_5.jpg\n",
            "detect_path: /content/drive/My Drive/01_Aqila/target_faces/test_image_face_detected.jpg\n",
            "WARNING:tensorflow:5 out of the last 19 calls to <function Model.make_predict_function.<locals>.predict_function at 0x7fbb9240cea0> triggered tf.function retracing. Tracing is expensive and the excessive number of tracings could be due to (1) creating @tf.function repeatedly in a loop, (2) passing tensors with different shapes, (3) passing Python objects instead of tensors. For (1), please define your @tf.function outside of the loop. For (2), @tf.function has experimental_relax_shapes=True option that relaxes argument shapes that can avoid unnecessary retracing. For (3), please refer to https://www.tensorflow.org/tutorials/customization/performance#python_or_tensor_args and https://www.tensorflow.org/api_docs/python/tf/function for  more details.\n",
            "# file name: /content/drive/My Drive/01_Aqila/source_images/Amir/AMIR_01.jpg # of faces detected: 1\n",
            "[{'box': [788, 187, 299, 406], 'confidence': 0.9999947547912598, 'keypoints': {'left_eye': (864, 352), 'right_eye': (1009, 350), 'nose': (942, 414), 'mouth_left': (874, 481), 'mouth_right': (1009, 481)}}]\n",
            "face_path: /content/drive/My Drive/01_Aqila/target_faces/Amir/AMIR_01_0.jpg\n",
            "detect_path: /content/drive/My Drive/01_Aqila/target_faces/Amir/AMIR_01_face_detected.jpg\n",
            "WARNING:tensorflow:5 out of the last 19 calls to <function Model.make_predict_function.<locals>.predict_function at 0x7fbb927eb1e0> triggered tf.function retracing. Tracing is expensive and the excessive number of tracings could be due to (1) creating @tf.function repeatedly in a loop, (2) passing tensors with different shapes, (3) passing Python objects instead of tensors. For (1), please define your @tf.function outside of the loop. For (2), @tf.function has experimental_relax_shapes=True option that relaxes argument shapes that can avoid unnecessary retracing. For (3), please refer to https://www.tensorflow.org/tutorials/customization/performance#python_or_tensor_args and https://www.tensorflow.org/api_docs/python/tf/function for  more details.\n",
            "# file name: /content/drive/My Drive/01_Aqila/source_images/Amir/AMIR_02.jpg # of faces detected: 1\n",
            "[{'box': [705, 197, 398, 549], 'confidence': 0.9999954700469971, 'keypoints': {'left_eye': (808, 426), 'right_eye': (998, 431), 'nose': (908, 527), 'mouth_left': (823, 614), 'mouth_right': (978, 624)}}]\n",
            "face_path: /content/drive/My Drive/01_Aqila/target_faces/Amir/AMIR_02_0.jpg\n",
            "detect_path: /content/drive/My Drive/01_Aqila/target_faces/Amir/AMIR_02_face_detected.jpg\n",
            "WARNING:tensorflow:5 out of the last 13 calls to <function Model.make_predict_function.<locals>.predict_function at 0x7fbba01ce730> triggered tf.function retracing. Tracing is expensive and the excessive number of tracings could be due to (1) creating @tf.function repeatedly in a loop, (2) passing tensors with different shapes, (3) passing Python objects instead of tensors. For (1), please define your @tf.function outside of the loop. For (2), @tf.function has experimental_relax_shapes=True option that relaxes argument shapes that can avoid unnecessary retracing. For (3), please refer to https://www.tensorflow.org/tutorials/customization/performance#python_or_tensor_args and https://www.tensorflow.org/api_docs/python/tf/function for  more details.\n",
            "# file name: /content/drive/My Drive/01_Aqila/source_images/Amir/download.png # of faces detected: 1\n",
            "[{'box': [111, 67, 213, 307], 'confidence': 0.9999960660934448, 'keypoints': {'left_eye': (179, 189), 'right_eye': (280, 192), 'nose': (235, 250), 'mouth_left': (187, 292), 'mouth_right': (276, 295)}}]\n",
            "face_path: /content/drive/My Drive/01_Aqila/target_faces/Amir/download_0.jpg\n",
            "detect_path: /content/drive/My Drive/01_Aqila/target_faces/Amir/download_face_detected.jpg\n",
            "WARNING:tensorflow:5 out of the last 14 calls to <function Model.make_predict_function.<locals>.predict_function at 0x7fbb92253730> triggered tf.function retracing. Tracing is expensive and the excessive number of tracings could be due to (1) creating @tf.function repeatedly in a loop, (2) passing tensors with different shapes, (3) passing Python objects instead of tensors. For (1), please define your @tf.function outside of the loop. For (2), @tf.function has experimental_relax_shapes=True option that relaxes argument shapes that can avoid unnecessary retracing. For (3), please refer to https://www.tensorflow.org/tutorials/customization/performance#python_or_tensor_args and https://www.tensorflow.org/api_docs/python/tf/function for  more details.\n",
            "WARNING:tensorflow:6 out of the last 15 calls to <function Model.make_predict_function.<locals>.predict_function at 0x7fbb92253730> triggered tf.function retracing. Tracing is expensive and the excessive number of tracings could be due to (1) creating @tf.function repeatedly in a loop, (2) passing tensors with different shapes, (3) passing Python objects instead of tensors. For (1), please define your @tf.function outside of the loop. For (2), @tf.function has experimental_relax_shapes=True option that relaxes argument shapes that can avoid unnecessary retracing. For (3), please refer to https://www.tensorflow.org/tutorials/customization/performance#python_or_tensor_args and https://www.tensorflow.org/api_docs/python/tf/function for  more details.\n",
            "# file name: /content/drive/My Drive/01_Aqila/source_images/Amir/AMIR_03.jpg # of faces detected: 1\n",
            "[{'box': [406, 100, 306, 413], 'confidence': 0.999997615814209, 'keypoints': {'left_eye': (494, 265), 'right_eye': (638, 264), 'nose': (574, 331), 'mouth_left': (502, 396), 'mouth_right': (639, 398)}}]\n",
            "face_path: /content/drive/My Drive/01_Aqila/target_faces/Amir/AMIR_03_0.jpg\n",
            "detect_path: /content/drive/My Drive/01_Aqila/target_faces/Amir/AMIR_03_face_detected.jpg\n",
            "WARNING:tensorflow:5 out of the last 24 calls to <function Model.make_predict_function.<locals>.predict_function at 0x7fbb924371e0> triggered tf.function retracing. Tracing is expensive and the excessive number of tracings could be due to (1) creating @tf.function repeatedly in a loop, (2) passing tensors with different shapes, (3) passing Python objects instead of tensors. For (1), please define your @tf.function outside of the loop. For (2), @tf.function has experimental_relax_shapes=True option that relaxes argument shapes that can avoid unnecessary retracing. For (3), please refer to https://www.tensorflow.org/tutorials/customization/performance#python_or_tensor_args and https://www.tensorflow.org/api_docs/python/tf/function for  more details.\n",
            "WARNING:tensorflow:6 out of the last 30 calls to <function Model.make_predict_function.<locals>.predict_function at 0x7fba375e4620> triggered tf.function retracing. Tracing is expensive and the excessive number of tracings could be due to (1) creating @tf.function repeatedly in a loop, (2) passing tensors with different shapes, (3) passing Python objects instead of tensors. For (1), please define your @tf.function outside of the loop. For (2), @tf.function has experimental_relax_shapes=True option that relaxes argument shapes that can avoid unnecessary retracing. For (3), please refer to https://www.tensorflow.org/tutorials/customization/performance#python_or_tensor_args and https://www.tensorflow.org/api_docs/python/tf/function for  more details.\n",
            "# file name: /content/drive/My Drive/01_Aqila/source_images/Amir/IMG_9067.jpg # of faces detected: 1\n",
            "[{'box': [78, 108, 99, 131], 'confidence': 0.9999980926513672, 'keypoints': {'left_eye': (111, 157), 'right_eye': (157, 158), 'nose': (139, 173), 'mouth_left': (116, 206), 'mouth_right': (153, 207)}}]\n",
            "face_path: /content/drive/My Drive/01_Aqila/target_faces/Amir/IMG_9067_0.jpg\n",
            "detect_path: /content/drive/My Drive/01_Aqila/target_faces/Amir/IMG_9067_face_detected.jpg\n",
            "WARNING:tensorflow:5 out of the last 12 calls to <function Model.make_predict_function.<locals>.predict_function at 0x7fba37588bf8> triggered tf.function retracing. Tracing is expensive and the excessive number of tracings could be due to (1) creating @tf.function repeatedly in a loop, (2) passing tensors with different shapes, (3) passing Python objects instead of tensors. For (1), please define your @tf.function outside of the loop. For (2), @tf.function has experimental_relax_shapes=True option that relaxes argument shapes that can avoid unnecessary retracing. For (3), please refer to https://www.tensorflow.org/tutorials/customization/performance#python_or_tensor_args and https://www.tensorflow.org/api_docs/python/tf/function for  more details.\n",
            "WARNING:tensorflow:6 out of the last 13 calls to <function Model.make_predict_function.<locals>.predict_function at 0x7fba37588bf8> triggered tf.function retracing. Tracing is expensive and the excessive number of tracings could be due to (1) creating @tf.function repeatedly in a loop, (2) passing tensors with different shapes, (3) passing Python objects instead of tensors. For (1), please define your @tf.function outside of the loop. For (2), @tf.function has experimental_relax_shapes=True option that relaxes argument shapes that can avoid unnecessary retracing. For (3), please refer to https://www.tensorflow.org/tutorials/customization/performance#python_or_tensor_args and https://www.tensorflow.org/api_docs/python/tf/function for  more details.\n",
            "WARNING:tensorflow:6 out of the last 13 calls to <function Model.make_predict_function.<locals>.predict_function at 0x7fba373fe950> triggered tf.function retracing. Tracing is expensive and the excessive number of tracings could be due to (1) creating @tf.function repeatedly in a loop, (2) passing tensors with different shapes, (3) passing Python objects instead of tensors. For (1), please define your @tf.function outside of the loop. For (2), @tf.function has experimental_relax_shapes=True option that relaxes argument shapes that can avoid unnecessary retracing. For (3), please refer to https://www.tensorflow.org/tutorials/customization/performance#python_or_tensor_args and https://www.tensorflow.org/api_docs/python/tf/function for  more details.\n",
            "WARNING:tensorflow:5 out of the last 11 calls to <function Model.make_predict_function.<locals>.predict_function at 0x7fba373e61e0> triggered tf.function retracing. Tracing is expensive and the excessive number of tracings could be due to (1) creating @tf.function repeatedly in a loop, (2) passing tensors with different shapes, (3) passing Python objects instead of tensors. For (1), please define your @tf.function outside of the loop. For (2), @tf.function has experimental_relax_shapes=True option that relaxes argument shapes that can avoid unnecessary retracing. For (3), please refer to https://www.tensorflow.org/tutorials/customization/performance#python_or_tensor_args and https://www.tensorflow.org/api_docs/python/tf/function for  more details.\n",
            "# file name: /content/drive/My Drive/01_Aqila/source_images/Amir/IMG_9068.jpg # of faces detected: 1\n",
            "[{'box': [71, 100, 88, 116], 'confidence': 0.9999994039535522, 'keypoints': {'left_eye': (102, 139), 'right_eye': (144, 142), 'nose': (129, 157), 'mouth_left': (106, 186), 'mouth_right': (141, 189)}}]\n",
            "face_path: /content/drive/My Drive/01_Aqila/target_faces/Amir/IMG_9068_0.jpg\n",
            "detect_path: /content/drive/My Drive/01_Aqila/target_faces/Amir/IMG_9068_face_detected.jpg\n",
            "WARNING:tensorflow:5 out of the last 11 calls to <function Model.make_predict_function.<locals>.predict_function at 0x7fbb9219abf8> triggered tf.function retracing. Tracing is expensive and the excessive number of tracings could be due to (1) creating @tf.function repeatedly in a loop, (2) passing tensors with different shapes, (3) passing Python objects instead of tensors. For (1), please define your @tf.function outside of the loop. For (2), @tf.function has experimental_relax_shapes=True option that relaxes argument shapes that can avoid unnecessary retracing. For (3), please refer to https://www.tensorflow.org/tutorials/customization/performance#python_or_tensor_args and https://www.tensorflow.org/api_docs/python/tf/function for  more details.\n",
            "WARNING:tensorflow:5 out of the last 11 calls to <function Model.make_predict_function.<locals>.predict_function at 0x7fbb9219abf8> triggered tf.function retracing. Tracing is expensive and the excessive number of tracings could be due to (1) creating @tf.function repeatedly in a loop, (2) passing tensors with different shapes, (3) passing Python objects instead of tensors. For (1), please define your @tf.function outside of the loop. For (2), @tf.function has experimental_relax_shapes=True option that relaxes argument shapes that can avoid unnecessary retracing. For (3), please refer to https://www.tensorflow.org/tutorials/customization/performance#python_or_tensor_args and https://www.tensorflow.org/api_docs/python/tf/function for  more details.\n",
            "WARNING:tensorflow:6 out of the last 12 calls to <function Model.make_predict_function.<locals>.predict_function at 0x7fbb9219abf8> triggered tf.function retracing. Tracing is expensive and the excessive number of tracings could be due to (1) creating @tf.function repeatedly in a loop, (2) passing tensors with different shapes, (3) passing Python objects instead of tensors. For (1), please define your @tf.function outside of the loop. For (2), @tf.function has experimental_relax_shapes=True option that relaxes argument shapes that can avoid unnecessary retracing. For (3), please refer to https://www.tensorflow.org/tutorials/customization/performance#python_or_tensor_args and https://www.tensorflow.org/api_docs/python/tf/function for  more details.\n",
            "WARNING:tensorflow:6 out of the last 12 calls to <function Model.make_predict_function.<locals>.predict_function at 0x7fba373fe840> triggered tf.function retracing. Tracing is expensive and the excessive number of tracings could be due to (1) creating @tf.function repeatedly in a loop, (2) passing tensors with different shapes, (3) passing Python objects instead of tensors. For (1), please define your @tf.function outside of the loop. For (2), @tf.function has experimental_relax_shapes=True option that relaxes argument shapes that can avoid unnecessary retracing. For (3), please refer to https://www.tensorflow.org/tutorials/customization/performance#python_or_tensor_args and https://www.tensorflow.org/api_docs/python/tf/function for  more details.\n",
            "WARNING:tensorflow:5 out of the last 11 calls to <function Model.make_predict_function.<locals>.predict_function at 0x7fba373e6730> triggered tf.function retracing. Tracing is expensive and the excessive number of tracings could be due to (1) creating @tf.function repeatedly in a loop, (2) passing tensors with different shapes, (3) passing Python objects instead of tensors. For (1), please define your @tf.function outside of the loop. For (2), @tf.function has experimental_relax_shapes=True option that relaxes argument shapes that can avoid unnecessary retracing. For (3), please refer to https://www.tensorflow.org/tutorials/customization/performance#python_or_tensor_args and https://www.tensorflow.org/api_docs/python/tf/function for  more details.\n",
            "# file name: /content/drive/My Drive/01_Aqila/source_images/Amir/IMG_9075.jpg # of faces detected: 1\n",
            "[{'box': [85, 95, 115, 161], 'confidence': 0.9999914169311523, 'keypoints': {'left_eye': (113, 154), 'right_eye': (168, 153), 'nose': (140, 177), 'mouth_left': (119, 217), 'mouth_right': (163, 218)}}]\n",
            "face_path: /content/drive/My Drive/01_Aqila/target_faces/Amir/IMG_9075_0.jpg\n",
            "detect_path: /content/drive/My Drive/01_Aqila/target_faces/Amir/IMG_9075_face_detected.jpg\n",
            "WARNING:tensorflow:5 out of the last 11 calls to <function Model.make_predict_function.<locals>.predict_function at 0x7fbb9245be18> triggered tf.function retracing. Tracing is expensive and the excessive number of tracings could be due to (1) creating @tf.function repeatedly in a loop, (2) passing tensors with different shapes, (3) passing Python objects instead of tensors. For (1), please define your @tf.function outside of the loop. For (2), @tf.function has experimental_relax_shapes=True option that relaxes argument shapes that can avoid unnecessary retracing. For (3), please refer to https://www.tensorflow.org/tutorials/customization/performance#python_or_tensor_args and https://www.tensorflow.org/api_docs/python/tf/function for  more details.\n",
            "WARNING:tensorflow:5 out of the last 11 calls to <function Model.make_predict_function.<locals>.predict_function at 0x7fbb9245be18> triggered tf.function retracing. Tracing is expensive and the excessive number of tracings could be due to (1) creating @tf.function repeatedly in a loop, (2) passing tensors with different shapes, (3) passing Python objects instead of tensors. For (1), please define your @tf.function outside of the loop. For (2), @tf.function has experimental_relax_shapes=True option that relaxes argument shapes that can avoid unnecessary retracing. For (3), please refer to https://www.tensorflow.org/tutorials/customization/performance#python_or_tensor_args and https://www.tensorflow.org/api_docs/python/tf/function for  more details.\n",
            "WARNING:tensorflow:6 out of the last 12 calls to <function Model.make_predict_function.<locals>.predict_function at 0x7fbb9245be18> triggered tf.function retracing. Tracing is expensive and the excessive number of tracings could be due to (1) creating @tf.function repeatedly in a loop, (2) passing tensors with different shapes, (3) passing Python objects instead of tensors. For (1), please define your @tf.function outside of the loop. For (2), @tf.function has experimental_relax_shapes=True option that relaxes argument shapes that can avoid unnecessary retracing. For (3), please refer to https://www.tensorflow.org/tutorials/customization/performance#python_or_tensor_args and https://www.tensorflow.org/api_docs/python/tf/function for  more details.\n",
            "WARNING:tensorflow:6 out of the last 12 calls to <function Model.make_predict_function.<locals>.predict_function at 0x7fbba019e2f0> triggered tf.function retracing. Tracing is expensive and the excessive number of tracings could be due to (1) creating @tf.function repeatedly in a loop, (2) passing tensors with different shapes, (3) passing Python objects instead of tensors. For (1), please define your @tf.function outside of the loop. For (2), @tf.function has experimental_relax_shapes=True option that relaxes argument shapes that can avoid unnecessary retracing. For (3), please refer to https://www.tensorflow.org/tutorials/customization/performance#python_or_tensor_args and https://www.tensorflow.org/api_docs/python/tf/function for  more details.\n",
            "WARNING:tensorflow:5 out of the last 11 calls to <function Model.make_predict_function.<locals>.predict_function at 0x7fba397a3f28> triggered tf.function retracing. Tracing is expensive and the excessive number of tracings could be due to (1) creating @tf.function repeatedly in a loop, (2) passing tensors with different shapes, (3) passing Python objects instead of tensors. For (1), please define your @tf.function outside of the loop. For (2), @tf.function has experimental_relax_shapes=True option that relaxes argument shapes that can avoid unnecessary retracing. For (3), please refer to https://www.tensorflow.org/tutorials/customization/performance#python_or_tensor_args and https://www.tensorflow.org/api_docs/python/tf/function for  more details.\n",
            "# file name: /content/drive/My Drive/01_Aqila/source_images/Amir/IMG_9070.jpg # of faces detected: 1\n",
            "[{'box': [99, 94, 104, 147], 'confidence': 0.9999890327453613, 'keypoints': {'left_eye': (122, 152), 'right_eye': (173, 150), 'nose': (142, 170), 'mouth_left': (126, 209), 'mouth_right': (166, 208)}}]\n",
            "face_path: /content/drive/My Drive/01_Aqila/target_faces/Amir/IMG_9070_0.jpg\n",
            "detect_path: /content/drive/My Drive/01_Aqila/target_faces/Amir/IMG_9070_face_detected.jpg\n",
            "WARNING:tensorflow:5 out of the last 11 calls to <function Model.make_predict_function.<locals>.predict_function at 0x7fba375e47b8> triggered tf.function retracing. Tracing is expensive and the excessive number of tracings could be due to (1) creating @tf.function repeatedly in a loop, (2) passing tensors with different shapes, (3) passing Python objects instead of tensors. For (1), please define your @tf.function outside of the loop. For (2), @tf.function has experimental_relax_shapes=True option that relaxes argument shapes that can avoid unnecessary retracing. For (3), please refer to https://www.tensorflow.org/tutorials/customization/performance#python_or_tensor_args and https://www.tensorflow.org/api_docs/python/tf/function for  more details.\n",
            "WARNING:tensorflow:5 out of the last 11 calls to <function Model.make_predict_function.<locals>.predict_function at 0x7fba375e47b8> triggered tf.function retracing. Tracing is expensive and the excessive number of tracings could be due to (1) creating @tf.function repeatedly in a loop, (2) passing tensors with different shapes, (3) passing Python objects instead of tensors. For (1), please define your @tf.function outside of the loop. For (2), @tf.function has experimental_relax_shapes=True option that relaxes argument shapes that can avoid unnecessary retracing. For (3), please refer to https://www.tensorflow.org/tutorials/customization/performance#python_or_tensor_args and https://www.tensorflow.org/api_docs/python/tf/function for  more details.\n",
            "WARNING:tensorflow:6 out of the last 12 calls to <function Model.make_predict_function.<locals>.predict_function at 0x7fba375e47b8> triggered tf.function retracing. Tracing is expensive and the excessive number of tracings could be due to (1) creating @tf.function repeatedly in a loop, (2) passing tensors with different shapes, (3) passing Python objects instead of tensors. For (1), please define your @tf.function outside of the loop. For (2), @tf.function has experimental_relax_shapes=True option that relaxes argument shapes that can avoid unnecessary retracing. For (3), please refer to https://www.tensorflow.org/tutorials/customization/performance#python_or_tensor_args and https://www.tensorflow.org/api_docs/python/tf/function for  more details.\n",
            "WARNING:tensorflow:6 out of the last 12 calls to <function Model.make_predict_function.<locals>.predict_function at 0x7fbb9234e2f0> triggered tf.function retracing. Tracing is expensive and the excessive number of tracings could be due to (1) creating @tf.function repeatedly in a loop, (2) passing tensors with different shapes, (3) passing Python objects instead of tensors. For (1), please define your @tf.function outside of the loop. For (2), @tf.function has experimental_relax_shapes=True option that relaxes argument shapes that can avoid unnecessary retracing. For (3), please refer to https://www.tensorflow.org/tutorials/customization/performance#python_or_tensor_args and https://www.tensorflow.org/api_docs/python/tf/function for  more details.\n",
            "WARNING:tensorflow:5 out of the last 11 calls to <function Model.make_predict_function.<locals>.predict_function at 0x7fbb92253ae8> triggered tf.function retracing. Tracing is expensive and the excessive number of tracings could be due to (1) creating @tf.function repeatedly in a loop, (2) passing tensors with different shapes, (3) passing Python objects instead of tensors. For (1), please define your @tf.function outside of the loop. For (2), @tf.function has experimental_relax_shapes=True option that relaxes argument shapes that can avoid unnecessary retracing. For (3), please refer to https://www.tensorflow.org/tutorials/customization/performance#python_or_tensor_args and https://www.tensorflow.org/api_docs/python/tf/function for  more details.\n",
            "# file name: /content/drive/My Drive/01_Aqila/source_images/Amir/IMG_9069.jpg # of faces detected: 1\n",
            "[{'box': [51, 115, 100, 134], 'confidence': 0.9999939203262329, 'keypoints': {'left_eye': (89, 164), 'right_eye': (134, 167), 'nose': (117, 190), 'mouth_left': (92, 215), 'mouth_right': (129, 218)}}]\n",
            "face_path: /content/drive/My Drive/01_Aqila/target_faces/Amir/IMG_9069_0.jpg\n",
            "detect_path: /content/drive/My Drive/01_Aqila/target_faces/Amir/IMG_9069_face_detected.jpg\n",
            "WARNING:tensorflow:5 out of the last 11 calls to <function Model.make_predict_function.<locals>.predict_function at 0x7fbb92078e18> triggered tf.function retracing. Tracing is expensive and the excessive number of tracings could be due to (1) creating @tf.function repeatedly in a loop, (2) passing tensors with different shapes, (3) passing Python objects instead of tensors. For (1), please define your @tf.function outside of the loop. For (2), @tf.function has experimental_relax_shapes=True option that relaxes argument shapes that can avoid unnecessary retracing. For (3), please refer to https://www.tensorflow.org/tutorials/customization/performance#python_or_tensor_args and https://www.tensorflow.org/api_docs/python/tf/function for  more details.\n",
            "WARNING:tensorflow:5 out of the last 11 calls to <function Model.make_predict_function.<locals>.predict_function at 0x7fbb92078e18> triggered tf.function retracing. Tracing is expensive and the excessive number of tracings could be due to (1) creating @tf.function repeatedly in a loop, (2) passing tensors with different shapes, (3) passing Python objects instead of tensors. For (1), please define your @tf.function outside of the loop. For (2), @tf.function has experimental_relax_shapes=True option that relaxes argument shapes that can avoid unnecessary retracing. For (3), please refer to https://www.tensorflow.org/tutorials/customization/performance#python_or_tensor_args and https://www.tensorflow.org/api_docs/python/tf/function for  more details.\n",
            "WARNING:tensorflow:6 out of the last 12 calls to <function Model.make_predict_function.<locals>.predict_function at 0x7fbb92078e18> triggered tf.function retracing. Tracing is expensive and the excessive number of tracings could be due to (1) creating @tf.function repeatedly in a loop, (2) passing tensors with different shapes, (3) passing Python objects instead of tensors. For (1), please define your @tf.function outside of the loop. For (2), @tf.function has experimental_relax_shapes=True option that relaxes argument shapes that can avoid unnecessary retracing. For (3), please refer to https://www.tensorflow.org/tutorials/customization/performance#python_or_tensor_args and https://www.tensorflow.org/api_docs/python/tf/function for  more details.\n",
            "WARNING:tensorflow:6 out of the last 12 calls to <function Model.make_predict_function.<locals>.predict_function at 0x7fbba01d32f0> triggered tf.function retracing. Tracing is expensive and the excessive number of tracings could be due to (1) creating @tf.function repeatedly in a loop, (2) passing tensors with different shapes, (3) passing Python objects instead of tensors. For (1), please define your @tf.function outside of the loop. For (2), @tf.function has experimental_relax_shapes=True option that relaxes argument shapes that can avoid unnecessary retracing. For (3), please refer to https://www.tensorflow.org/tutorials/customization/performance#python_or_tensor_args and https://www.tensorflow.org/api_docs/python/tf/function for  more details.\n",
            "WARNING:tensorflow:5 out of the last 11 calls to <function Model.make_predict_function.<locals>.predict_function at 0x7fbba00edf28> triggered tf.function retracing. Tracing is expensive and the excessive number of tracings could be due to (1) creating @tf.function repeatedly in a loop, (2) passing tensors with different shapes, (3) passing Python objects instead of tensors. For (1), please define your @tf.function outside of the loop. For (2), @tf.function has experimental_relax_shapes=True option that relaxes argument shapes that can avoid unnecessary retracing. For (3), please refer to https://www.tensorflow.org/tutorials/customization/performance#python_or_tensor_args and https://www.tensorflow.org/api_docs/python/tf/function for  more details.\n",
            "# file name: /content/drive/My Drive/01_Aqila/source_images/Amir/IMG_9071.jpg # of faces detected: 1\n",
            "[{'box': [90, 95, 103, 124], 'confidence': 0.9999984502792358, 'keypoints': {'left_eye': (115, 135), 'right_eye': (164, 136), 'nose': (139, 143), 'mouth_left': (120, 184), 'mouth_right': (161, 184)}}]\n",
            "face_path: /content/drive/My Drive/01_Aqila/target_faces/Amir/IMG_9071_0.jpg\n",
            "detect_path: /content/drive/My Drive/01_Aqila/target_faces/Amir/IMG_9071_face_detected.jpg\n",
            "WARNING:tensorflow:5 out of the last 11 calls to <function Model.make_predict_function.<locals>.predict_function at 0x7fbb927eb950> triggered tf.function retracing. Tracing is expensive and the excessive number of tracings could be due to (1) creating @tf.function repeatedly in a loop, (2) passing tensors with different shapes, (3) passing Python objects instead of tensors. For (1), please define your @tf.function outside of the loop. For (2), @tf.function has experimental_relax_shapes=True option that relaxes argument shapes that can avoid unnecessary retracing. For (3), please refer to https://www.tensorflow.org/tutorials/customization/performance#python_or_tensor_args and https://www.tensorflow.org/api_docs/python/tf/function for  more details.\n",
            "WARNING:tensorflow:5 out of the last 11 calls to <function Model.make_predict_function.<locals>.predict_function at 0x7fbb927eb950> triggered tf.function retracing. Tracing is expensive and the excessive number of tracings could be due to (1) creating @tf.function repeatedly in a loop, (2) passing tensors with different shapes, (3) passing Python objects instead of tensors. For (1), please define your @tf.function outside of the loop. For (2), @tf.function has experimental_relax_shapes=True option that relaxes argument shapes that can avoid unnecessary retracing. For (3), please refer to https://www.tensorflow.org/tutorials/customization/performance#python_or_tensor_args and https://www.tensorflow.org/api_docs/python/tf/function for  more details.\n",
            "WARNING:tensorflow:6 out of the last 12 calls to <function Model.make_predict_function.<locals>.predict_function at 0x7fbb927eb950> triggered tf.function retracing. Tracing is expensive and the excessive number of tracings could be due to (1) creating @tf.function repeatedly in a loop, (2) passing tensors with different shapes, (3) passing Python objects instead of tensors. For (1), please define your @tf.function outside of the loop. For (2), @tf.function has experimental_relax_shapes=True option that relaxes argument shapes that can avoid unnecessary retracing. For (3), please refer to https://www.tensorflow.org/tutorials/customization/performance#python_or_tensor_args and https://www.tensorflow.org/api_docs/python/tf/function for  more details.\n",
            "WARNING:tensorflow:6 out of the last 12 calls to <function Model.make_predict_function.<locals>.predict_function at 0x7fbb927bed08> triggered tf.function retracing. Tracing is expensive and the excessive number of tracings could be due to (1) creating @tf.function repeatedly in a loop, (2) passing tensors with different shapes, (3) passing Python objects instead of tensors. For (1), please define your @tf.function outside of the loop. For (2), @tf.function has experimental_relax_shapes=True option that relaxes argument shapes that can avoid unnecessary retracing. For (3), please refer to https://www.tensorflow.org/tutorials/customization/performance#python_or_tensor_args and https://www.tensorflow.org/api_docs/python/tf/function for  more details.\n",
            "# file name: /content/drive/My Drive/01_Aqila/source_images/Amir/IMG_9074.jpg # of faces detected: 1\n",
            "[{'box': [92, 113, 95, 131], 'confidence': 0.9999905824661255, 'keypoints': {'left_eye': (134, 159), 'right_eye': (175, 162), 'nose': (165, 185), 'mouth_left': (135, 211), 'mouth_right': (169, 214)}}]\n",
            "face_path: /content/drive/My Drive/01_Aqila/target_faces/Amir/IMG_9074_0.jpg\n",
            "detect_path: /content/drive/My Drive/01_Aqila/target_faces/Amir/IMG_9074_face_detected.jpg\n",
            "WARNING:tensorflow:5 out of the last 12 calls to <function Model.make_predict_function.<locals>.predict_function at 0x7fbb925bf840> triggered tf.function retracing. Tracing is expensive and the excessive number of tracings could be due to (1) creating @tf.function repeatedly in a loop, (2) passing tensors with different shapes, (3) passing Python objects instead of tensors. For (1), please define your @tf.function outside of the loop. For (2), @tf.function has experimental_relax_shapes=True option that relaxes argument shapes that can avoid unnecessary retracing. For (3), please refer to https://www.tensorflow.org/tutorials/customization/performance#python_or_tensor_args and https://www.tensorflow.org/api_docs/python/tf/function for  more details.\n",
            "WARNING:tensorflow:6 out of the last 13 calls to <function Model.make_predict_function.<locals>.predict_function at 0x7fbb925bf840> triggered tf.function retracing. Tracing is expensive and the excessive number of tracings could be due to (1) creating @tf.function repeatedly in a loop, (2) passing tensors with different shapes, (3) passing Python objects instead of tensors. For (1), please define your @tf.function outside of the loop. For (2), @tf.function has experimental_relax_shapes=True option that relaxes argument shapes that can avoid unnecessary retracing. For (3), please refer to https://www.tensorflow.org/tutorials/customization/performance#python_or_tensor_args and https://www.tensorflow.org/api_docs/python/tf/function for  more details.\n",
            "WARNING:tensorflow:6 out of the last 13 calls to <function Model.make_predict_function.<locals>.predict_function at 0x7fba39424158> triggered tf.function retracing. Tracing is expensive and the excessive number of tracings could be due to (1) creating @tf.function repeatedly in a loop, (2) passing tensors with different shapes, (3) passing Python objects instead of tensors. For (1), please define your @tf.function outside of the loop. For (2), @tf.function has experimental_relax_shapes=True option that relaxes argument shapes that can avoid unnecessary retracing. For (3), please refer to https://www.tensorflow.org/tutorials/customization/performance#python_or_tensor_args and https://www.tensorflow.org/api_docs/python/tf/function for  more details.\n",
            "WARNING:tensorflow:5 out of the last 11 calls to <function Model.make_predict_function.<locals>.predict_function at 0x7fba393eaa60> triggered tf.function retracing. Tracing is expensive and the excessive number of tracings could be due to (1) creating @tf.function repeatedly in a loop, (2) passing tensors with different shapes, (3) passing Python objects instead of tensors. For (1), please define your @tf.function outside of the loop. For (2), @tf.function has experimental_relax_shapes=True option that relaxes argument shapes that can avoid unnecessary retracing. For (3), please refer to https://www.tensorflow.org/tutorials/customization/performance#python_or_tensor_args and https://www.tensorflow.org/api_docs/python/tf/function for  more details.\n",
            "# file name: /content/drive/My Drive/01_Aqila/source_images/Amir/IMG_9076.jpg # of faces detected: 1\n",
            "[{'box': [93, 94, 103, 146], 'confidence': 0.9999414682388306, 'keypoints': {'left_eye': (119, 147), 'right_eye': (169, 147), 'nose': (143, 165), 'mouth_left': (123, 204), 'mouth_right': (162, 206)}}]\n",
            "face_path: /content/drive/My Drive/01_Aqila/target_faces/Amir/IMG_9076_0.jpg\n",
            "detect_path: /content/drive/My Drive/01_Aqila/target_faces/Amir/IMG_9076_face_detected.jpg\n",
            "WARNING:tensorflow:5 out of the last 11 calls to <function Model.make_predict_function.<locals>.predict_function at 0x7fbb9240c950> triggered tf.function retracing. Tracing is expensive and the excessive number of tracings could be due to (1) creating @tf.function repeatedly in a loop, (2) passing tensors with different shapes, (3) passing Python objects instead of tensors. For (1), please define your @tf.function outside of the loop. For (2), @tf.function has experimental_relax_shapes=True option that relaxes argument shapes that can avoid unnecessary retracing. For (3), please refer to https://www.tensorflow.org/tutorials/customization/performance#python_or_tensor_args and https://www.tensorflow.org/api_docs/python/tf/function for  more details.\n",
            "WARNING:tensorflow:5 out of the last 11 calls to <function Model.make_predict_function.<locals>.predict_function at 0x7fbb9240c950> triggered tf.function retracing. Tracing is expensive and the excessive number of tracings could be due to (1) creating @tf.function repeatedly in a loop, (2) passing tensors with different shapes, (3) passing Python objects instead of tensors. For (1), please define your @tf.function outside of the loop. For (2), @tf.function has experimental_relax_shapes=True option that relaxes argument shapes that can avoid unnecessary retracing. For (3), please refer to https://www.tensorflow.org/tutorials/customization/performance#python_or_tensor_args and https://www.tensorflow.org/api_docs/python/tf/function for  more details.\n",
            "WARNING:tensorflow:6 out of the last 12 calls to <function Model.make_predict_function.<locals>.predict_function at 0x7fbb9240c950> triggered tf.function retracing. Tracing is expensive and the excessive number of tracings could be due to (1) creating @tf.function repeatedly in a loop, (2) passing tensors with different shapes, (3) passing Python objects instead of tensors. For (1), please define your @tf.function outside of the loop. For (2), @tf.function has experimental_relax_shapes=True option that relaxes argument shapes that can avoid unnecessary retracing. For (3), please refer to https://www.tensorflow.org/tutorials/customization/performance#python_or_tensor_args and https://www.tensorflow.org/api_docs/python/tf/function for  more details.\n",
            "WARNING:tensorflow:6 out of the last 12 calls to <function Model.make_predict_function.<locals>.predict_function at 0x7fba3921e510> triggered tf.function retracing. Tracing is expensive and the excessive number of tracings could be due to (1) creating @tf.function repeatedly in a loop, (2) passing tensors with different shapes, (3) passing Python objects instead of tensors. For (1), please define your @tf.function outside of the loop. For (2), @tf.function has experimental_relax_shapes=True option that relaxes argument shapes that can avoid unnecessary retracing. For (3), please refer to https://www.tensorflow.org/tutorials/customization/performance#python_or_tensor_args and https://www.tensorflow.org/api_docs/python/tf/function for  more details.\n",
            "WARNING:tensorflow:5 out of the last 11 calls to <function Model.make_predict_function.<locals>.predict_function at 0x7fbb92437ea0> triggered tf.function retracing. Tracing is expensive and the excessive number of tracings could be due to (1) creating @tf.function repeatedly in a loop, (2) passing tensors with different shapes, (3) passing Python objects instead of tensors. For (1), please define your @tf.function outside of the loop. For (2), @tf.function has experimental_relax_shapes=True option that relaxes argument shapes that can avoid unnecessary retracing. For (3), please refer to https://www.tensorflow.org/tutorials/customization/performance#python_or_tensor_args and https://www.tensorflow.org/api_docs/python/tf/function for  more details.\n",
            "# file name: /content/drive/My Drive/01_Aqila/source_images/Amir/IMG_9072.jpg # of faces detected: 1\n",
            "[{'box': [85, 106, 102, 136], 'confidence': 0.9999982118606567, 'keypoints': {'left_eye': (114, 152), 'right_eye': (164, 153), 'nose': (143, 177), 'mouth_left': (120, 208), 'mouth_right': (161, 209)}}]\n",
            "face_path: /content/drive/My Drive/01_Aqila/target_faces/Amir/IMG_9072_0.jpg\n",
            "detect_path: /content/drive/My Drive/01_Aqila/target_faces/Amir/IMG_9072_face_detected.jpg\n",
            "WARNING:tensorflow:5 out of the last 11 calls to <function Model.make_predict_function.<locals>.predict_function at 0x7fbbfc711730> triggered tf.function retracing. Tracing is expensive and the excessive number of tracings could be due to (1) creating @tf.function repeatedly in a loop, (2) passing tensors with different shapes, (3) passing Python objects instead of tensors. For (1), please define your @tf.function outside of the loop. For (2), @tf.function has experimental_relax_shapes=True option that relaxes argument shapes that can avoid unnecessary retracing. For (3), please refer to https://www.tensorflow.org/tutorials/customization/performance#python_or_tensor_args and https://www.tensorflow.org/api_docs/python/tf/function for  more details.\n",
            "WARNING:tensorflow:5 out of the last 11 calls to <function Model.make_predict_function.<locals>.predict_function at 0x7fbbfc711730> triggered tf.function retracing. Tracing is expensive and the excessive number of tracings could be due to (1) creating @tf.function repeatedly in a loop, (2) passing tensors with different shapes, (3) passing Python objects instead of tensors. For (1), please define your @tf.function outside of the loop. For (2), @tf.function has experimental_relax_shapes=True option that relaxes argument shapes that can avoid unnecessary retracing. For (3), please refer to https://www.tensorflow.org/tutorials/customization/performance#python_or_tensor_args and https://www.tensorflow.org/api_docs/python/tf/function for  more details.\n",
            "WARNING:tensorflow:6 out of the last 12 calls to <function Model.make_predict_function.<locals>.predict_function at 0x7fbbfc711730> triggered tf.function retracing. Tracing is expensive and the excessive number of tracings could be due to (1) creating @tf.function repeatedly in a loop, (2) passing tensors with different shapes, (3) passing Python objects instead of tensors. For (1), please define your @tf.function outside of the loop. For (2), @tf.function has experimental_relax_shapes=True option that relaxes argument shapes that can avoid unnecessary retracing. For (3), please refer to https://www.tensorflow.org/tutorials/customization/performance#python_or_tensor_args and https://www.tensorflow.org/api_docs/python/tf/function for  more details.\n",
            "WARNING:tensorflow:6 out of the last 12 calls to <function Model.make_predict_function.<locals>.predict_function at 0x7fbb9245bae8> triggered tf.function retracing. Tracing is expensive and the excessive number of tracings could be due to (1) creating @tf.function repeatedly in a loop, (2) passing tensors with different shapes, (3) passing Python objects instead of tensors. For (1), please define your @tf.function outside of the loop. For (2), @tf.function has experimental_relax_shapes=True option that relaxes argument shapes that can avoid unnecessary retracing. For (3), please refer to https://www.tensorflow.org/tutorials/customization/performance#python_or_tensor_args and https://www.tensorflow.org/api_docs/python/tf/function for  more details.\n",
            "WARNING:tensorflow:5 out of the last 11 calls to <function Model.make_predict_function.<locals>.predict_function at 0x7fbb927bef28> triggered tf.function retracing. Tracing is expensive and the excessive number of tracings could be due to (1) creating @tf.function repeatedly in a loop, (2) passing tensors with different shapes, (3) passing Python objects instead of tensors. For (1), please define your @tf.function outside of the loop. For (2), @tf.function has experimental_relax_shapes=True option that relaxes argument shapes that can avoid unnecessary retracing. For (3), please refer to https://www.tensorflow.org/tutorials/customization/performance#python_or_tensor_args and https://www.tensorflow.org/api_docs/python/tf/function for  more details.\n",
            "# file name: /content/drive/My Drive/01_Aqila/source_images/Amir/IMG_9073.jpg # of faces detected: 1\n",
            "[{'box': [90, 119, 103, 149], 'confidence': 0.9999793767929077, 'keypoints': {'left_eye': (119, 171), 'right_eye': (169, 174), 'nose': (146, 198), 'mouth_left': (122, 231), 'mouth_right': (162, 234)}}]\n",
            "face_path: /content/drive/My Drive/01_Aqila/target_faces/Amir/IMG_9073_0.jpg\n",
            "detect_path: /content/drive/My Drive/01_Aqila/target_faces/Amir/IMG_9073_face_detected.jpg\n"
          ],
          "name": "stdout"
        }
      ]
    }
  ]
}